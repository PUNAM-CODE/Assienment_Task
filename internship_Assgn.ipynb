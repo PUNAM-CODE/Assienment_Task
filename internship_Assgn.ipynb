{
 "cells": [
  {
   "cell_type": "code",
   "execution_count": 1,
   "id": "e05cdd76",
   "metadata": {},
   "outputs": [],
   "source": [
    "# Import libraries\n",
    "import pandas as pd\n",
    "import numpy as np\n",
    "import matplotlib.pyplot as plt\n",
    "import seaborn as sns\n",
    "\n",
    "import warnings\n",
    "warnings.filterwarnings('ignore')"
   ]
  },
  {
   "cell_type": "code",
   "execution_count": 34,
   "id": "775fc4df",
   "metadata": {},
   "outputs": [],
   "source": [
    "#read data\n",
    "\n",
    "\n",
    "\n",
    "df=pd.read_csv('new.csv' )"
   ]
  },
  {
   "cell_type": "code",
   "execution_count": 39,
   "id": "52aab0db",
   "metadata": {},
   "outputs": [],
   "source": []
  },
  {
   "cell_type": "code",
   "execution_count": 11,
   "id": "79df0cda",
   "metadata": {},
   "outputs": [
    {
     "data": {
      "text/html": [
       "<div>\n",
       "<style scoped>\n",
       "    .dataframe tbody tr th:only-of-type {\n",
       "        vertical-align: middle;\n",
       "    }\n",
       "\n",
       "    .dataframe tbody tr th {\n",
       "        vertical-align: top;\n",
       "    }\n",
       "\n",
       "    .dataframe thead th {\n",
       "        text-align: right;\n",
       "    }\n",
       "</style>\n",
       "<table border=\"1\" class=\"dataframe\">\n",
       "  <thead>\n",
       "    <tr style=\"text-align: right;\">\n",
       "      <th></th>\n",
       "      <th>Full Name</th>\n",
       "      <th>Designation</th>\n",
       "      <th>Seniority (Head or Manager)</th>\n",
       "      <th>Function (IT, Procurement/Purchase, Others)</th>\n",
       "      <th>How Soon Would You Like to Buy (within 1month, Within 1 Quarter, After 1 Quarter)</th>\n",
       "      <th>Total Units</th>\n",
       "      <th>Org Size (Employees in Your Organization)</th>\n",
       "      <th>Lead Status (Y)</th>\n",
       "    </tr>\n",
       "  </thead>\n",
       "  <tbody>\n",
       "    <tr>\n",
       "      <th>0</th>\n",
       "      <td>Sarfaraz Sikander</td>\n",
       "      <td>Technical Manager - Middle East</td>\n",
       "      <td>Manager</td>\n",
       "      <td>IT</td>\n",
       "      <td>within a month</td>\n",
       "      <td>1</td>\n",
       "      <td>500-1000</td>\n",
       "      <td>MQL</td>\n",
       "    </tr>\n",
       "    <tr>\n",
       "      <th>1</th>\n",
       "      <td>Nasar Siddiqui</td>\n",
       "      <td>Head of Electronic Channels</td>\n",
       "      <td>Head</td>\n",
       "      <td>IT</td>\n",
       "      <td>within a month</td>\n",
       "      <td>10+</td>\n",
       "      <td>500-1000</td>\n",
       "      <td>Non MQL</td>\n",
       "    </tr>\n",
       "    <tr>\n",
       "      <th>2</th>\n",
       "      <td>Fero</td>\n",
       "      <td>Purchasing Coordinator</td>\n",
       "      <td>-</td>\n",
       "      <td>Purchase</td>\n",
       "      <td>within a month</td>\n",
       "      <td>1</td>\n",
       "      <td>200-500</td>\n",
       "      <td>Non MQL</td>\n",
       "    </tr>\n",
       "    <tr>\n",
       "      <th>3</th>\n",
       "      <td>Anwar</td>\n",
       "      <td>Director of HR, Training and Organizational De...</td>\n",
       "      <td>Head</td>\n",
       "      <td>Others</td>\n",
       "      <td>within a month</td>\n",
       "      <td>-</td>\n",
       "      <td>501 - 1000</td>\n",
       "      <td>Non MQL</td>\n",
       "    </tr>\n",
       "    <tr>\n",
       "      <th>4</th>\n",
       "      <td>Rafeek</td>\n",
       "      <td>Technical Manager</td>\n",
       "      <td>Manager</td>\n",
       "      <td>IT</td>\n",
       "      <td>within a month</td>\n",
       "      <td>0</td>\n",
       "      <td>10001+</td>\n",
       "      <td>Non MQL</td>\n",
       "    </tr>\n",
       "    <tr>\n",
       "      <th>...</th>\n",
       "      <td>...</td>\n",
       "      <td>...</td>\n",
       "      <td>...</td>\n",
       "      <td>...</td>\n",
       "      <td>...</td>\n",
       "      <td>...</td>\n",
       "      <td>...</td>\n",
       "      <td>...</td>\n",
       "    </tr>\n",
       "    <tr>\n",
       "      <th>193</th>\n",
       "      <td>Afsal Hamza</td>\n",
       "      <td>Group Procurement Manager</td>\n",
       "      <td>Manager</td>\n",
       "      <td>Procurement</td>\n",
       "      <td>within a month</td>\n",
       "      <td>6 - 10</td>\n",
       "      <td>1000 - 5000</td>\n",
       "      <td>Non MQL</td>\n",
       "    </tr>\n",
       "    <tr>\n",
       "      <th>194</th>\n",
       "      <td>Sanjai S Nair</td>\n",
       "      <td>Change And Release Manager @ Dubai Health Auth...</td>\n",
       "      <td>Manager</td>\n",
       "      <td>Others</td>\n",
       "      <td>within a month</td>\n",
       "      <td>6 - 10</td>\n",
       "      <td>1000 - 5000</td>\n",
       "      <td>Non MQL</td>\n",
       "    </tr>\n",
       "    <tr>\n",
       "      <th>195</th>\n",
       "      <td>Ajay Sachdev</td>\n",
       "      <td>General Manager Procurement</td>\n",
       "      <td>Manager</td>\n",
       "      <td>Procurement</td>\n",
       "      <td>within a month</td>\n",
       "      <td>6 - 10</td>\n",
       "      <td>10,001+</td>\n",
       "      <td>Non MQL</td>\n",
       "    </tr>\n",
       "    <tr>\n",
       "      <th>196</th>\n",
       "      <td>Mohandas</td>\n",
       "      <td>Agency Head - Data-Driven Business Consulting</td>\n",
       "      <td>Head</td>\n",
       "      <td>IT</td>\n",
       "      <td>within a month</td>\n",
       "      <td>6 - 10</td>\n",
       "      <td>50 - 200</td>\n",
       "      <td>Non MQL</td>\n",
       "    </tr>\n",
       "    <tr>\n",
       "      <th>197</th>\n",
       "      <td>Khaldun Khaldi</td>\n",
       "      <td>VP- Head Of Enterprise Infrastructure Services</td>\n",
       "      <td>Head</td>\n",
       "      <td>IT</td>\n",
       "      <td>within a month</td>\n",
       "      <td>10</td>\n",
       "      <td>5000 - 10000</td>\n",
       "      <td>MQL</td>\n",
       "    </tr>\n",
       "  </tbody>\n",
       "</table>\n",
       "<p>198 rows × 8 columns</p>\n",
       "</div>"
      ],
      "text/plain": [
       "             Full Name                                        Designation  \\\n",
       "0    Sarfaraz Sikander                    Technical Manager - Middle East   \n",
       "1       Nasar Siddiqui                        Head of Electronic Channels   \n",
       "2                 Fero                             Purchasing Coordinator   \n",
       "3                Anwar  Director of HR, Training and Organizational De...   \n",
       "4               Rafeek                                  Technical Manager   \n",
       "..                 ...                                                ...   \n",
       "193        Afsal Hamza                          Group Procurement Manager   \n",
       "194      Sanjai S Nair  Change And Release Manager @ Dubai Health Auth...   \n",
       "195       Ajay Sachdev                        General Manager Procurement   \n",
       "196           Mohandas      Agency Head - Data-Driven Business Consulting   \n",
       "197     Khaldun Khaldi     VP- Head Of Enterprise Infrastructure Services   \n",
       "\n",
       "    Seniority (Head or Manager) Function (IT, Procurement/Purchase, Others)  \\\n",
       "0                       Manager                                          IT   \n",
       "1                          Head                                          IT   \n",
       "2                             -                                    Purchase   \n",
       "3                          Head                                      Others   \n",
       "4                       Manager                                          IT   \n",
       "..                          ...                                         ...   \n",
       "193                     Manager                                 Procurement   \n",
       "194                     Manager                                      Others   \n",
       "195                     Manager                                 Procurement   \n",
       "196                        Head                                          IT   \n",
       "197                        Head                                          IT   \n",
       "\n",
       "    How Soon Would You Like to Buy (within 1month, Within 1 Quarter, After 1 Quarter)  \\\n",
       "0                                       within a month                                  \n",
       "1                                       within a month                                  \n",
       "2                                       within a month                                  \n",
       "3                                       within a month                                  \n",
       "4                                       within a month                                  \n",
       "..                                                 ...                                  \n",
       "193                                     within a month                                  \n",
       "194                                     within a month                                  \n",
       "195                                     within a month                                  \n",
       "196                                     within a month                                  \n",
       "197                                     within a month                                  \n",
       "\n",
       "    Total Units Org Size (Employees in Your Organization) Lead Status (Y)  \n",
       "0             1                                  500-1000             MQL  \n",
       "1           10+                                  500-1000         Non MQL  \n",
       "2             1                                   200-500         Non MQL  \n",
       "3             -                                501 - 1000         Non MQL  \n",
       "4             0                                    10001+         Non MQL  \n",
       "..          ...                                       ...             ...  \n",
       "193      6 - 10                               1000 - 5000         Non MQL  \n",
       "194      6 - 10                               1000 - 5000         Non MQL  \n",
       "195      6 - 10                                   10,001+         Non MQL  \n",
       "196      6 - 10                                  50 - 200         Non MQL  \n",
       "197          10                              5000 - 10000             MQL  \n",
       "\n",
       "[198 rows x 8 columns]"
      ]
     },
     "execution_count": 11,
     "metadata": {},
     "output_type": "execute_result"
    }
   ],
   "source": [
    "df"
   ]
  },
  {
   "cell_type": "markdown",
   "id": "7fc0fb5c",
   "metadata": {},
   "source": [
    "# EDA"
   ]
  },
  {
   "cell_type": "markdown",
   "id": "82251db3",
   "metadata": {},
   "source": [
    "Prepare the data. See if the data is organized and prepared well, if not please do so. The\n",
    "columns, Seniority and Function are left blank so you can prepare them.\n"
   ]
  },
  {
   "cell_type": "code",
   "execution_count": 56,
   "id": "9cfe0478",
   "metadata": {
    "scrolled": true
   },
   "outputs": [
    {
     "data": {
      "text/plain": [
       "Full Name                                                                            0\n",
       "Designation                                                                          1\n",
       "Seniority (Head or Manager)                                                          0\n",
       "Function (IT, Procurement/Purchase, Others)                                          1\n",
       "How Soon Would You Like to Buy (within 1month, Within 1 Quarter, After 1 Quarter)    0\n",
       "Total Units                                                                          0\n",
       "Org Size (Employees in Your Organization)                                            0\n",
       "Lead Status (Y)                                                                      0\n",
       "dtype: int64"
      ]
     },
     "execution_count": 56,
     "metadata": {},
     "output_type": "execute_result"
    }
   ],
   "source": [
    "df.isnull().sum()"
   ]
  },
  {
   "cell_type": "code",
   "execution_count": null,
   "id": "ae5d84be",
   "metadata": {},
   "outputs": [],
   "source": [
    "\n"
   ]
  },
  {
   "cell_type": "code",
   "execution_count": 57,
   "id": "374de6cf",
   "metadata": {},
   "outputs": [
    {
     "data": {
      "text/html": [
       "<div>\n",
       "<style scoped>\n",
       "    .dataframe tbody tr th:only-of-type {\n",
       "        vertical-align: middle;\n",
       "    }\n",
       "\n",
       "    .dataframe tbody tr th {\n",
       "        vertical-align: top;\n",
       "    }\n",
       "\n",
       "    .dataframe thead th {\n",
       "        text-align: right;\n",
       "    }\n",
       "</style>\n",
       "<table border=\"1\" class=\"dataframe\">\n",
       "  <thead>\n",
       "    <tr style=\"text-align: right;\">\n",
       "      <th></th>\n",
       "      <th>Full Name</th>\n",
       "      <th>Designation</th>\n",
       "      <th>Seniority (Head or Manager)</th>\n",
       "      <th>Function (IT, Procurement/Purchase, Others)</th>\n",
       "      <th>How Soon Would You Like to Buy (within 1month, Within 1 Quarter, After 1 Quarter)</th>\n",
       "      <th>Total Units</th>\n",
       "      <th>Org Size (Employees in Your Organization)</th>\n",
       "      <th>Lead Status (Y)</th>\n",
       "    </tr>\n",
       "  </thead>\n",
       "  <tbody>\n",
       "    <tr>\n",
       "      <th>count</th>\n",
       "      <td>198</td>\n",
       "      <td>197</td>\n",
       "      <td>198</td>\n",
       "      <td>197</td>\n",
       "      <td>198</td>\n",
       "      <td>198</td>\n",
       "      <td>198</td>\n",
       "      <td>198</td>\n",
       "    </tr>\n",
       "    <tr>\n",
       "      <th>unique</th>\n",
       "      <td>194</td>\n",
       "      <td>160</td>\n",
       "      <td>3</td>\n",
       "      <td>5</td>\n",
       "      <td>4</td>\n",
       "      <td>22</td>\n",
       "      <td>30</td>\n",
       "      <td>4</td>\n",
       "    </tr>\n",
       "    <tr>\n",
       "      <th>top</th>\n",
       "      <td>Aditya Kaushik</td>\n",
       "      <td>Partner</td>\n",
       "      <td>Head</td>\n",
       "      <td>IT</td>\n",
       "      <td>within a month</td>\n",
       "      <td>6 - 10</td>\n",
       "      <td>1000 - 5000</td>\n",
       "      <td>Non MQL</td>\n",
       "    </tr>\n",
       "    <tr>\n",
       "      <th>freq</th>\n",
       "      <td>2</td>\n",
       "      <td>7</td>\n",
       "      <td>89</td>\n",
       "      <td>98</td>\n",
       "      <td>176</td>\n",
       "      <td>71</td>\n",
       "      <td>33</td>\n",
       "      <td>104</td>\n",
       "    </tr>\n",
       "  </tbody>\n",
       "</table>\n",
       "</div>"
      ],
      "text/plain": [
       "             Full Name Designation Seniority (Head or Manager)  \\\n",
       "count              198         197                         198   \n",
       "unique             194         160                           3   \n",
       "top     Aditya Kaushik     Partner                        Head   \n",
       "freq                 2           7                          89   \n",
       "\n",
       "       Function (IT, Procurement/Purchase, Others)  \\\n",
       "count                                          197   \n",
       "unique                                           5   \n",
       "top                                             IT   \n",
       "freq                                            98   \n",
       "\n",
       "       How Soon Would You Like to Buy (within 1month, Within 1 Quarter, After 1 Quarter)  \\\n",
       "count                                                 198                                  \n",
       "unique                                                  4                                  \n",
       "top                                        within a month                                  \n",
       "freq                                                  176                                  \n",
       "\n",
       "       Total Units Org Size (Employees in Your Organization) Lead Status (Y)  \n",
       "count          198                                       198             198  \n",
       "unique          22                                        30               4  \n",
       "top         6 - 10                               1000 - 5000         Non MQL  \n",
       "freq            71                                        33             104  "
      ]
     },
     "execution_count": 57,
     "metadata": {},
     "output_type": "execute_result"
    }
   ],
   "source": [
    "df.describe()"
   ]
  },
  {
   "cell_type": "code",
   "execution_count": 58,
   "id": "d47c7ff7",
   "metadata": {},
   "outputs": [
    {
     "name": "stdout",
     "output_type": "stream",
     "text": [
      "<class 'pandas.core.frame.DataFrame'>\n",
      "RangeIndex: 198 entries, 0 to 197\n",
      "Data columns (total 8 columns):\n",
      " #   Column                                                                             Non-Null Count  Dtype \n",
      "---  ------                                                                             --------------  ----- \n",
      " 0   Full Name                                                                          198 non-null    object\n",
      " 1   Designation                                                                        197 non-null    object\n",
      " 2   Seniority (Head or Manager)                                                        198 non-null    object\n",
      " 3   Function (IT, Procurement/Purchase, Others)                                        197 non-null    object\n",
      " 4   How Soon Would You Like to Buy (within 1month, Within 1 Quarter, After 1 Quarter)  198 non-null    object\n",
      " 5   Total Units                                                                        198 non-null    object\n",
      " 6   Org Size (Employees in Your Organization)                                          198 non-null    object\n",
      " 7   Lead Status (Y)                                                                    198 non-null    object\n",
      "dtypes: object(8)\n",
      "memory usage: 12.5+ KB\n"
     ]
    }
   ],
   "source": [
    "df.info()"
   ]
  },
  {
   "cell_type": "code",
   "execution_count": 47,
   "id": "f9442ff8",
   "metadata": {},
   "outputs": [
    {
     "name": "stdout",
     "output_type": "stream",
     "text": [
      "Collecting autoviz\n",
      "  Downloading autoviz-0.0.83-py3-none-any.whl (44 kB)\n",
      "Requirement already satisfied: matplotlib in c:\\users\\admin\\appdata\\local\\programs\\python\\python38\\lib\\site-packages (from autoviz) (3.4.2)\n",
      "Requirement already satisfied: jupyter in c:\\users\\admin\\appdata\\local\\programs\\python\\python38\\lib\\site-packages (from autoviz) (1.0.0)\n",
      "Requirement already satisfied: statsmodels in c:\\users\\admin\\appdata\\local\\programs\\python\\python38\\lib\\site-packages (from autoviz) (0.12.2)\n",
      "Requirement already satisfied: seaborn in c:\\users\\admin\\appdata\\local\\programs\\python\\python38\\lib\\site-packages (from autoviz) (0.11.1)\n",
      "Requirement already satisfied: xgboost in c:\\users\\admin\\appdata\\local\\programs\\python\\python38\\lib\\site-packages (from autoviz) (1.4.2)\n",
      "Requirement already satisfied: pandas in c:\\users\\admin\\appdata\\local\\programs\\python\\python38\\lib\\site-packages (from autoviz) (1.3.0)\n",
      "Requirement already satisfied: scikit-learn in c:\\users\\admin\\appdata\\local\\programs\\python\\python38\\lib\\site-packages (from autoviz) (0.24.1)\n",
      "Requirement already satisfied: ipython in c:\\users\\admin\\appdata\\local\\programs\\python\\python38\\lib\\site-packages (from autoviz) (7.25.0)\n",
      "Requirement already satisfied: pillow>=6.2.0 in c:\\users\\admin\\appdata\\local\\programs\\python\\python38\\lib\\site-packages (from matplotlib->autoviz) (8.3.1)\n",
      "Requirement already satisfied: cycler>=0.10 in c:\\users\\admin\\appdata\\local\\programs\\python\\python38\\lib\\site-packages (from matplotlib->autoviz) (0.10.0)\n",
      "Requirement already satisfied: pyparsing>=2.2.1 in c:\\users\\admin\\appdata\\local\\programs\\python\\python38\\lib\\site-packages (from matplotlib->autoviz) (2.4.7)\n",
      "Requirement already satisfied: kiwisolver>=1.0.1 in c:\\users\\admin\\appdata\\local\\programs\\python\\python38\\lib\\site-packages (from matplotlib->autoviz) (1.3.1)\n",
      "Requirement already satisfied: numpy>=1.16 in c:\\users\\admin\\appdata\\local\\programs\\python\\python38\\lib\\site-packages (from matplotlib->autoviz) (1.19.5)\n",
      "Requirement already satisfied: python-dateutil>=2.7 in c:\\users\\admin\\appdata\\local\\programs\\python\\python38\\lib\\site-packages (from matplotlib->autoviz) (2.8.2)\n",
      "Requirement already satisfied: qtconsole in c:\\users\\admin\\appdata\\local\\programs\\python\\python38\\lib\\site-packages (from jupyter->autoviz) (5.1.1)\n",
      "Requirement already satisfied: jupyter-console in c:\\users\\admin\\appdata\\local\\programs\\python\\python38\\lib\\site-packages (from jupyter->autoviz) (6.4.0)\n",
      "Requirement already satisfied: ipykernel in c:\\users\\admin\\appdata\\local\\programs\\python\\python38\\lib\\site-packages (from jupyter->autoviz) (6.0.2)\n",
      "Requirement already satisfied: ipywidgets in c:\\users\\admin\\appdata\\local\\programs\\python\\python38\\lib\\site-packages (from jupyter->autoviz) (7.6.3)\n",
      "Requirement already satisfied: nbconvert in c:\\users\\admin\\appdata\\local\\programs\\python\\python38\\lib\\site-packages (from jupyter->autoviz) (6.1.0)\n",
      "Requirement already satisfied: notebook in c:\\users\\admin\\appdata\\local\\programs\\python\\python38\\lib\\site-packages (from jupyter->autoviz) (6.4.0)\n",
      "Requirement already satisfied: patsy>=0.5 in c:\\users\\admin\\appdata\\local\\programs\\python\\python38\\lib\\site-packages (from statsmodels->autoviz) (0.5.1)\n",
      "Requirement already satisfied: scipy>=1.1 in c:\\users\\admin\\appdata\\local\\programs\\python\\python38\\lib\\site-packages (from statsmodels->autoviz) (1.7.0)\n",
      "Requirement already satisfied: pytz>=2017.3 in c:\\users\\admin\\appdata\\local\\programs\\python\\python38\\lib\\site-packages (from pandas->autoviz) (2021.1)\n",
      "Requirement already satisfied: threadpoolctl>=2.0.0 in c:\\users\\admin\\appdata\\local\\programs\\python\\python38\\lib\\site-packages (from scikit-learn->autoviz) (2.1.0)\n",
      "Requirement already satisfied: joblib>=0.11 in c:\\users\\admin\\appdata\\local\\programs\\python\\python38\\lib\\site-packages (from scikit-learn->autoviz) (1.0.1)\n",
      "Requirement already satisfied: traitlets>=4.2 in c:\\users\\admin\\appdata\\local\\programs\\python\\python38\\lib\\site-packages (from ipython->autoviz) (5.0.5)\n",
      "Requirement already satisfied: jedi>=0.16 in c:\\users\\admin\\appdata\\local\\programs\\python\\python38\\lib\\site-packages (from ipython->autoviz) (0.18.0)\n",
      "Requirement already satisfied: pygments in c:\\users\\admin\\appdata\\local\\programs\\python\\python38\\lib\\site-packages (from ipython->autoviz) (2.9.0)\n",
      "Requirement already satisfied: prompt-toolkit!=3.0.0,!=3.0.1,<3.1.0,>=2.0.0 in c:\\users\\admin\\appdata\\local\\programs\\python\\python38\\lib\\site-packages (from ipython->autoviz) (3.0.19)\n",
      "Requirement already satisfied: backcall in c:\\users\\admin\\appdata\\local\\programs\\python\\python38\\lib\\site-packages (from ipython->autoviz) (0.2.0)\n",
      "Requirement already satisfied: decorator in c:\\users\\admin\\appdata\\local\\programs\\python\\python38\\lib\\site-packages (from ipython->autoviz) (5.0.9)"
     ]
    },
    {
     "name": "stderr",
     "output_type": "stream",
     "text": [
      "WARNING: You are using pip version 20.1.1; however, version 21.2.4 is available.\n",
      "You should consider upgrading via the 'c:\\users\\admin\\appdata\\local\\programs\\python\\python38\\python.exe -m pip install --upgrade pip' command.\n"
     ]
    },
    {
     "name": "stdout",
     "output_type": "stream",
     "text": [
      "\n",
      "Requirement already satisfied: matplotlib-inline in c:\\users\\admin\\appdata\\local\\programs\\python\\python38\\lib\\site-packages (from ipython->autoviz) (0.1.2)\n",
      "Requirement already satisfied: colorama; sys_platform == \"win32\" in c:\\users\\admin\\appdata\\local\\programs\\python\\python38\\lib\\site-packages (from ipython->autoviz) (0.4.4)\n",
      "Requirement already satisfied: setuptools>=18.5 in c:\\users\\admin\\appdata\\local\\programs\\python\\python38\\lib\\site-packages (from ipython->autoviz) (47.1.0)\n",
      "Requirement already satisfied: pickleshare in c:\\users\\admin\\appdata\\local\\programs\\python\\python38\\lib\\site-packages (from ipython->autoviz) (0.7.5)\n",
      "Requirement already satisfied: six in c:\\users\\admin\\appdata\\local\\programs\\python\\python38\\lib\\site-packages (from cycler>=0.10->matplotlib->autoviz) (1.15.0)\n",
      "Requirement already satisfied: ipython-genutils in c:\\users\\admin\\appdata\\local\\programs\\python\\python38\\lib\\site-packages (from qtconsole->jupyter->autoviz) (0.2.0)\n",
      "Requirement already satisfied: jupyter-client>=4.1 in c:\\users\\admin\\appdata\\local\\programs\\python\\python38\\lib\\site-packages (from qtconsole->jupyter->autoviz) (6.1.12)\n",
      "Requirement already satisfied: jupyter-core in c:\\users\\admin\\appdata\\local\\programs\\python\\python38\\lib\\site-packages (from qtconsole->jupyter->autoviz) (4.7.1)\n",
      "Requirement already satisfied: qtpy in c:\\users\\admin\\appdata\\local\\programs\\python\\python38\\lib\\site-packages (from qtconsole->jupyter->autoviz) (1.9.0)\n",
      "Requirement already satisfied: pyzmq>=17.1 in c:\\users\\admin\\appdata\\local\\programs\\python\\python38\\lib\\site-packages (from qtconsole->jupyter->autoviz) (22.1.0)\n",
      "Requirement already satisfied: debugpy<2.0,>=1.0.0 in c:\\users\\admin\\appdata\\local\\programs\\python\\python38\\lib\\site-packages (from ipykernel->jupyter->autoviz) (1.3.0)\n",
      "Requirement already satisfied: tornado<7.0,>=4.2 in c:\\users\\admin\\appdata\\local\\programs\\python\\python38\\lib\\site-packages (from ipykernel->jupyter->autoviz) (6.1)\n",
      "Requirement already satisfied: jupyterlab-widgets>=1.0.0; python_version >= \"3.6\" in c:\\users\\admin\\appdata\\local\\programs\\python\\python38\\lib\\site-packages (from ipywidgets->jupyter->autoviz) (1.0.0)\n",
      "Requirement already satisfied: widgetsnbextension~=3.5.0 in c:\\users\\admin\\appdata\\local\\programs\\python\\python38\\lib\\site-packages (from ipywidgets->jupyter->autoviz) (3.5.1)\n",
      "Requirement already satisfied: nbformat>=4.2.0 in c:\\users\\admin\\appdata\\local\\programs\\python\\python38\\lib\\site-packages (from ipywidgets->jupyter->autoviz) (5.1.3)\n",
      "Requirement already satisfied: mistune<2,>=0.8.1 in c:\\users\\admin\\appdata\\local\\programs\\python\\python38\\lib\\site-packages (from nbconvert->jupyter->autoviz) (0.8.4)\n",
      "Requirement already satisfied: defusedxml in c:\\users\\admin\\appdata\\local\\programs\\python\\python38\\lib\\site-packages (from nbconvert->jupyter->autoviz) (0.7.1)\n",
      "Requirement already satisfied: testpath in c:\\users\\admin\\appdata\\local\\programs\\python\\python38\\lib\\site-packages (from nbconvert->jupyter->autoviz) (0.5.0)\n",
      "Requirement already satisfied: jupyterlab-pygments in c:\\users\\admin\\appdata\\local\\programs\\python\\python38\\lib\\site-packages (from nbconvert->jupyter->autoviz) (0.1.2)\n",
      "Requirement already satisfied: bleach in c:\\users\\admin\\appdata\\local\\programs\\python\\python38\\lib\\site-packages (from nbconvert->jupyter->autoviz) (3.3.1)\n",
      "Requirement already satisfied: entrypoints>=0.2.2 in c:\\users\\admin\\appdata\\local\\programs\\python\\python38\\lib\\site-packages (from nbconvert->jupyter->autoviz) (0.3)\n",
      "Requirement already satisfied: nbclient<0.6.0,>=0.5.0 in c:\\users\\admin\\appdata\\local\\programs\\python\\python38\\lib\\site-packages (from nbconvert->jupyter->autoviz) (0.5.3)\n",
      "Requirement already satisfied: jinja2>=2.4 in c:\\users\\admin\\appdata\\local\\programs\\python\\python38\\lib\\site-packages (from nbconvert->jupyter->autoviz) (3.0.1)\n",
      "Requirement already satisfied: pandocfilters>=1.4.1 in c:\\users\\admin\\appdata\\local\\programs\\python\\python38\\lib\\site-packages (from nbconvert->jupyter->autoviz) (1.4.3)\n",
      "Requirement already satisfied: prometheus-client in c:\\users\\admin\\appdata\\local\\programs\\python\\python38\\lib\\site-packages (from notebook->jupyter->autoviz) (0.11.0)\n",
      "Requirement already satisfied: Send2Trash>=1.5.0 in c:\\users\\admin\\appdata\\local\\programs\\python\\python38\\lib\\site-packages (from notebook->jupyter->autoviz) (1.7.1)\n",
      "Requirement already satisfied: argon2-cffi in c:\\users\\admin\\appdata\\local\\programs\\python\\python38\\lib\\site-packages (from notebook->jupyter->autoviz) (20.1.0)\n",
      "Requirement already satisfied: terminado>=0.8.3 in c:\\users\\admin\\appdata\\local\\programs\\python\\python38\\lib\\site-packages (from notebook->jupyter->autoviz) (0.10.1)\n",
      "Requirement already satisfied: parso<0.9.0,>=0.8.0 in c:\\users\\admin\\appdata\\local\\programs\\python\\python38\\lib\\site-packages (from jedi>=0.16->ipython->autoviz) (0.8.2)\n",
      "Requirement already satisfied: wcwidth in c:\\users\\admin\\appdata\\local\\programs\\python\\python38\\lib\\site-packages (from prompt-toolkit!=3.0.0,!=3.0.1,<3.1.0,>=2.0.0->ipython->autoviz) (0.2.5)\n",
      "Requirement already satisfied: pywin32>=1.0; sys_platform == \"win32\" in c:\\users\\admin\\appdata\\local\\programs\\python\\python38\\lib\\site-packages (from jupyter-core->qtconsole->jupyter->autoviz) (301)\n",
      "Requirement already satisfied: jsonschema!=2.5.0,>=2.4 in c:\\users\\admin\\appdata\\local\\programs\\python\\python38\\lib\\site-packages (from nbformat>=4.2.0->ipywidgets->jupyter->autoviz) (3.2.0)\n",
      "Requirement already satisfied: packaging in c:\\users\\admin\\appdata\\local\\programs\\python\\python38\\lib\\site-packages (from bleach->nbconvert->jupyter->autoviz) (21.0)\n",
      "Requirement already satisfied: webencodings in c:\\users\\admin\\appdata\\local\\programs\\python\\python38\\lib\\site-packages (from bleach->nbconvert->jupyter->autoviz) (0.5.1)\n",
      "Requirement already satisfied: nest-asyncio in c:\\users\\admin\\appdata\\local\\programs\\python\\python38\\lib\\site-packages (from nbclient<0.6.0,>=0.5.0->nbconvert->jupyter->autoviz) (1.5.1)\n",
      "Requirement already satisfied: async-generator in c:\\users\\admin\\appdata\\local\\programs\\python\\python38\\lib\\site-packages (from nbclient<0.6.0,>=0.5.0->nbconvert->jupyter->autoviz) (1.10)\n",
      "Requirement already satisfied: MarkupSafe>=2.0 in c:\\users\\admin\\appdata\\local\\programs\\python\\python38\\lib\\site-packages (from jinja2>=2.4->nbconvert->jupyter->autoviz) (2.0.1)\n",
      "Requirement already satisfied: cffi>=1.0.0 in c:\\users\\admin\\appdata\\local\\programs\\python\\python38\\lib\\site-packages (from argon2-cffi->notebook->jupyter->autoviz) (1.14.6)\n",
      "Requirement already satisfied: pywinpty>=1.1.0; os_name == \"nt\" in c:\\users\\admin\\appdata\\local\\programs\\python\\python38\\lib\\site-packages (from terminado>=0.8.3->notebook->jupyter->autoviz) (1.1.3)\n",
      "Requirement already satisfied: pyrsistent>=0.14.0 in c:\\users\\admin\\appdata\\local\\programs\\python\\python38\\lib\\site-packages (from jsonschema!=2.5.0,>=2.4->nbformat>=4.2.0->ipywidgets->jupyter->autoviz) (0.18.0)\n",
      "Requirement already satisfied: attrs>=17.4.0 in c:\\users\\admin\\appdata\\local\\programs\\python\\python38\\lib\\site-packages (from jsonschema!=2.5.0,>=2.4->nbformat>=4.2.0->ipywidgets->jupyter->autoviz) (21.2.0)\n",
      "Requirement already satisfied: pycparser in c:\\users\\admin\\appdata\\local\\programs\\python\\python38\\lib\\site-packages (from cffi>=1.0.0->argon2-cffi->notebook->jupyter->autoviz) (2.20)\n",
      "Installing collected packages: autoviz\n",
      "Successfully installed autoviz-0.0.83\n"
     ]
    }
   ],
   "source": [
    "!pip install autoviz"
   ]
  },
  {
   "cell_type": "code",
   "execution_count": 50,
   "id": "4351f738",
   "metadata": {},
   "outputs": [
    {
     "name": "stdout",
     "output_type": "stream",
     "text": [
      "Collecting WordCloud\n",
      "  Downloading wordcloud-1.8.1-cp38-cp38-win_amd64.whl (155 kB)\n",
      "Requirement already satisfied: pillow in c:\\users\\admin\\appdata\\local\\programs\\python\\python38\\lib\\site-packages (from WordCloud) (8.3.1)\n",
      "Requirement already satisfied: numpy>=1.6.1 in c:\\users\\admin\\appdata\\local\\programs\\python\\python38\\lib\\site-packages (from WordCloud) (1.19.5)\n",
      "Requirement already satisfied: matplotlib in c:\\users\\admin\\appdata\\local\\programs\\python\\python38\\lib\\site-packages (from WordCloud) (3.4.2)\n",
      "Requirement already satisfied: kiwisolver>=1.0.1 in c:\\users\\admin\\appdata\\local\\programs\\python\\python38\\lib\\site-packages (from matplotlib->WordCloud) (1.3.1)\n",
      "Requirement already satisfied: cycler>=0.10 in c:\\users\\admin\\appdata\\local\\programs\\python\\python38\\lib\\site-packages (from matplotlib->WordCloud) (0.10.0)\n",
      "Requirement already satisfied: python-dateutil>=2.7 in c:\\users\\admin\\appdata\\local\\programs\\python\\python38\\lib\\site-packages (from matplotlib->WordCloud) (2.8.2)\n",
      "Requirement already satisfied: pyparsing>=2.2.1 in c:\\users\\admin\\appdata\\local\\programs\\python\\python38\\lib\\site-packages (from matplotlib->WordCloud) (2.4.7)\n",
      "Requirement already satisfied: six in c:\\users\\admin\\appdata\\local\\programs\\python\\python38\\lib\\site-packages (from cycler>=0.10->matplotlib->WordCloud) (1.15.0)\n",
      "Installing collected packages: WordCloud\n",
      "Successfully installed WordCloud-1.8.1\n"
     ]
    },
    {
     "name": "stderr",
     "output_type": "stream",
     "text": [
      "WARNING: You are using pip version 20.1.1; however, version 21.2.4 is available.\n",
      "You should consider upgrading via the 'c:\\users\\admin\\appdata\\local\\programs\\python\\python38\\python.exe -m pip install --upgrade pip' command.\n"
     ]
    }
   ],
   "source": [
    "import os\n",
    "import matplotlib.pyplot as plt\n",
    "!pip install WordCloud"
   ]
  },
  {
   "cell_type": "code",
   "execution_count": 51,
   "id": "bebd53b9",
   "metadata": {},
   "outputs": [
    {
     "name": "stdout",
     "output_type": "stream",
     "text": [
      "Imported AutoViz_Class version: 0.0.83. Call using:\n",
      "    AV = AutoViz_Class()\n",
      "    AV.AutoViz(filename, sep=',', depVar='', dfte=None, header=0, verbose=0,\n",
      "                            lowess=False,chart_format='svg',max_rows_analyzed=150000,max_cols_analyzed=30)\n",
      "Note: verbose=0 or 1 generates charts and displays them in your local Jupyter notebook.\n",
      "      verbose=2 does not show plot but creates them and saves them in AutoViz_Plots directory in your local machine.\n"
     ]
    }
   ],
   "source": [
    "from autoviz.AutoViz_Class import AutoViz_Class\n",
    "AV = AutoViz_Class()"
   ]
  },
  {
   "cell_type": "code",
   "execution_count": 53,
   "id": "a042dd70",
   "metadata": {},
   "outputs": [
    {
     "name": "stdout",
     "output_type": "stream",
     "text": [
      "Shape of your Data Set loaded: (199, 8)\n",
      "############## C L A S S I F Y I N G  V A R I A B L E S  ####################\n",
      "Classifying variables in data set...\n",
      "    Number of Numeric Columns =  0\n",
      "    Number of Integer-Categorical Columns =  0\n",
      "    Number of String-Categorical Columns =  5\n",
      "    Number of Factor-Categorical Columns =  0\n",
      "    Number of String-Boolean Columns =  0\n",
      "    Number of Numeric-Boolean Columns =  0\n",
      "    Number of Discrete String Columns =  3\n",
      "    Number of NLP String Columns =  0\n",
      "    Number of Date Time Columns =  0\n",
      "    Number of ID Columns =  0\n",
      "    Number of Columns to Delete =  0\n",
      "    8 Predictors classified...\n",
      "        This does not include the Target column(s)\n",
      "        3 variables removed since they were ID or low-information variables\n",
      "No continuous variables in this data set. No visualization can be performed\n",
      "Not able to read or load file. Please check your inputs and try again...\n"
     ]
    }
   ],
   "source": [
    "df = AV.AutoViz('Internshala_assignment.xls')"
   ]
  },
  {
   "cell_type": "code",
   "execution_count": 50,
   "id": "cadeba83",
   "metadata": {},
   "outputs": [
    {
     "name": "stdout",
     "output_type": "stream",
     "text": [
      "Requirement already satisfied: sweetviz in c:\\users\\admin\\appdata\\local\\programs\\python\\python38\\lib\\site-packages (2.1.3)"
     ]
    },
    {
     "name": "stderr",
     "output_type": "stream",
     "text": [
      "WARNING: You are using pip version 20.1.1; however, version 21.2.4 is available.\n",
      "You should consider upgrading via the 'c:\\users\\admin\\appdata\\local\\programs\\python\\python38\\python.exe -m pip install --upgrade pip' command.\n"
     ]
    },
    {
     "name": "stdout",
     "output_type": "stream",
     "text": [
      "\n",
      "Requirement already satisfied: importlib-resources>=1.2.0 in c:\\users\\admin\\appdata\\local\\programs\\python\\python38\\lib\\site-packages (from sweetviz) (5.2.2)\n",
      "Requirement already satisfied: pandas!=1.0.0,!=1.0.1,!=1.0.2,>=0.25.3 in c:\\users\\admin\\appdata\\local\\programs\\python\\python38\\lib\\site-packages (from sweetviz) (1.3.0)\n",
      "Requirement already satisfied: tqdm>=4.43.0 in c:\\users\\admin\\appdata\\local\\programs\\python\\python38\\lib\\site-packages (from sweetviz) (4.61.2)\n",
      "Requirement already satisfied: numpy>=1.16.0 in c:\\users\\admin\\appdata\\local\\programs\\python\\python38\\lib\\site-packages (from sweetviz) (1.19.5)\n",
      "Requirement already satisfied: jinja2>=2.11.1 in c:\\users\\admin\\appdata\\local\\programs\\python\\python38\\lib\\site-packages (from sweetviz) (3.0.1)\n",
      "Requirement already satisfied: matplotlib>=3.1.3 in c:\\users\\admin\\appdata\\local\\programs\\python\\python38\\lib\\site-packages (from sweetviz) (3.4.2)\n",
      "Requirement already satisfied: scipy>=1.3.2 in c:\\users\\admin\\appdata\\local\\programs\\python\\python38\\lib\\site-packages (from sweetviz) (1.7.0)\n",
      "Requirement already satisfied: zipp>=3.1.0; python_version < \"3.10\" in c:\\users\\admin\\appdata\\local\\programs\\python\\python38\\lib\\site-packages (from importlib-resources>=1.2.0->sweetviz) (3.5.0)\n",
      "Requirement already satisfied: pytz>=2017.3 in c:\\users\\admin\\appdata\\local\\programs\\python\\python38\\lib\\site-packages (from pandas!=1.0.0,!=1.0.1,!=1.0.2,>=0.25.3->sweetviz) (2021.1)\n",
      "Requirement already satisfied: python-dateutil>=2.7.3 in c:\\users\\admin\\appdata\\local\\programs\\python\\python38\\lib\\site-packages (from pandas!=1.0.0,!=1.0.1,!=1.0.2,>=0.25.3->sweetviz) (2.8.2)\n",
      "Requirement already satisfied: colorama; platform_system == \"Windows\" in c:\\users\\admin\\appdata\\local\\programs\\python\\python38\\lib\\site-packages (from tqdm>=4.43.0->sweetviz) (0.4.4)\n",
      "Requirement already satisfied: MarkupSafe>=2.0 in c:\\users\\admin\\appdata\\local\\programs\\python\\python38\\lib\\site-packages (from jinja2>=2.11.1->sweetviz) (2.0.1)\n",
      "Requirement already satisfied: pillow>=6.2.0 in c:\\users\\admin\\appdata\\local\\programs\\python\\python38\\lib\\site-packages (from matplotlib>=3.1.3->sweetviz) (8.3.1)\n",
      "Requirement already satisfied: pyparsing>=2.2.1 in c:\\users\\admin\\appdata\\local\\programs\\python\\python38\\lib\\site-packages (from matplotlib>=3.1.3->sweetviz) (2.4.7)\n",
      "Requirement already satisfied: kiwisolver>=1.0.1 in c:\\users\\admin\\appdata\\local\\programs\\python\\python38\\lib\\site-packages (from matplotlib>=3.1.3->sweetviz) (1.3.1)\n",
      "Requirement already satisfied: cycler>=0.10 in c:\\users\\admin\\appdata\\local\\programs\\python\\python38\\lib\\site-packages (from matplotlib>=3.1.3->sweetviz) (0.10.0)\n",
      "Requirement already satisfied: six>=1.5 in c:\\users\\admin\\appdata\\local\\programs\\python\\python38\\lib\\site-packages (from python-dateutil>=2.7.3->pandas!=1.0.0,!=1.0.1,!=1.0.2,>=0.25.3->sweetviz) (1.15.0)\n"
     ]
    }
   ],
   "source": [
    "!pip install sweetviz"
   ]
  },
  {
   "cell_type": "code",
   "execution_count": 59,
   "id": "6d1f8f94",
   "metadata": {},
   "outputs": [
    {
     "data": {
      "application/vnd.jupyter.widget-view+json": {
       "model_id": "e53e14d0ee754effa12afb3816aabfc9",
       "version_major": 2,
       "version_minor": 0
      },
      "text/plain": [
       "                                             |                                             | [  0%]   00:00 ->…"
      ]
     },
     "metadata": {},
     "output_type": "display_data"
    },
    {
     "name": "stdout",
     "output_type": "stream",
     "text": [
      "Report SWEETVIZ_REPORT.html was generated! NOTEBOOK/COLAB USERS: the web browser MAY not pop up, regardless, the report IS saved in your notebook/colab files.\n"
     ]
    }
   ],
   "source": [
    "import sweetviz as sv\n",
    "\n",
    "my_report = sv.analyze(df)\n",
    "my_report.show_html() # Default arguments will generate to \"SWEETVIZ_REPORT.html\""
   ]
  },
  {
   "cell_type": "code",
   "execution_count": 62,
   "id": "4bf6b4f0",
   "metadata": {},
   "outputs": [
    {
     "data": {
      "text/plain": [
       "Aditya Kaushik      2\n",
       "Abdeali Merchant    2\n",
       "Ahmed Aljabahji     2\n",
       "Ahmed Samir         2\n",
       "Mahmoud Yassin      1\n",
       "                   ..\n",
       "Ibrahim Souss       1\n",
       "BILAL Raza          1\n",
       "Hasan Alshamsi      1\n",
       "Khalid Ali          1\n",
       "Khaldun Khaldi      1\n",
       "Name: Full Name, Length: 194, dtype: int64"
      ]
     },
     "execution_count": 62,
     "metadata": {},
     "output_type": "execute_result"
    }
   ],
   "source": [
    "df['Full Name'].value_counts()"
   ]
  },
  {
   "cell_type": "code",
   "execution_count": 63,
   "id": "4cd7780f",
   "metadata": {},
   "outputs": [
    {
     "data": {
      "text/plain": [
       "0"
      ]
     },
     "execution_count": 63,
     "metadata": {},
     "output_type": "execute_result"
    }
   ],
   "source": [
    "df['Designation '].isnull().sum()"
   ]
  },
  {
   "cell_type": "code",
   "execution_count": 84,
   "id": "df5628dd",
   "metadata": {},
   "outputs": [
    {
     "data": {
      "text/plain": [
       "Partner                                           7\n",
       "Head Of Information Technology                    7\n",
       "Manager                                           4\n",
       "Head Of Procurement                               4\n",
       "Director                                          4\n",
       "                                                 ..\n",
       "Professor of Political Science                    1\n",
       "Head Of Department(English )                      1\n",
       "VP                                                1\n",
       "Group IT Manager                                  1\n",
       "VP- Head Of Enterprise Infrastructure Services    1\n",
       "Name: Designation, Length: 160, dtype: int64"
      ]
     },
     "execution_count": 84,
     "metadata": {},
     "output_type": "execute_result"
    }
   ],
   "source": [
    "df['Designation'].value_counts()\n"
   ]
  },
  {
   "cell_type": "code",
   "execution_count": 82,
   "id": "23061ab7",
   "metadata": {},
   "outputs": [
    {
     "data": {
      "image/png": "[encoded data removed]",
      "text/plain": [
       "<Figure size 600x400 with 1 Axes>"
      ]
     },
     "metadata": {},
     "output_type": "display_data"
    }
   ],
   "source": [
    "df['Seniority (Head or Manager)'].isnull().sum()\n",
    "fig=df['Seniority (Head or Manager)'].value_counts().plot.bar().get_figure()\n",
    "fig.tight_layout()"
   ]
  },
  {
   "cell_type": "code",
   "execution_count": null,
   "id": "6250add8",
   "metadata": {},
   "outputs": [],
   "source": []
  },
  {
   "cell_type": "code",
   "execution_count": 81,
   "id": "1445c8bd",
   "metadata": {},
   "outputs": [
    {
     "data": {
      "image/png": "[encoded data removed]",
      "text/plain": [
       "<Figure size 600x400 with 1 Axes>"
      ]
     },
     "metadata": {},
     "output_type": "display_data"
    }
   ],
   "source": [
    "df['Function (IT, Procurement/Purchase, Others)'].isnull().sum()\n",
    "fig=df['Function (IT, Procurement/Purchase, Others)'].value_counts().plot.bar().get_figure()\n",
    "fig.tight_layout()"
   ]
  },
  {
   "cell_type": "code",
   "execution_count": 80,
   "id": "6adfa0c8",
   "metadata": {},
   "outputs": [
    {
     "data": {
      "image/png": "[encoded data removed]",
      "text/plain": [
       "<Figure size 600x400 with 1 Axes>"
      ]
     },
     "metadata": {},
     "output_type": "display_data"
    }
   ],
   "source": [
    "fig=df['How Soon Would You Like to Buy (within 1month, Within 1 Quarter, After 1 Quarter)'].value_counts().plot.bar().get_figure()\n",
    "fig.tight_layout()"
   ]
  },
  {
   "cell_type": "code",
   "execution_count": 79,
   "id": "13a25ae4",
   "metadata": {},
   "outputs": [
    {
     "data": {
      "image/png": "[encoded data removed]",
      "text/plain": [
       "<Figure size 600x400 with 1 Axes>"
      ]
     },
     "metadata": {},
     "output_type": "display_data"
    }
   ],
   "source": [
    "fig=df['Total Units'].value_counts().plot.bar().get_figure()\n",
    "fig.tight_layout()"
   ]
  },
  {
   "cell_type": "code",
   "execution_count": 78,
   "id": "2db1a9b5",
   "metadata": {},
   "outputs": [
    {
     "data": {
      "image/png": "[encoded data removed]",
      "text/plain": [
       "<Figure size 600x400 with 1 Axes>"
      ]
     },
     "metadata": {},
     "output_type": "display_data"
    }
   ],
   "source": [
    "fig=df['Org Size (Employees in Your Organization)'].value_counts().plot.bar().get_figure()\n",
    "fig.tight_layout()"
   ]
  },
  {
   "cell_type": "code",
   "execution_count": 77,
   "id": "65556334",
   "metadata": {},
   "outputs": [
    {
     "data": {
      "image/png": "[encoded data removed]",
      "text/plain": [
       "<Figure size 600x400 with 1 Axes>"
      ]
     },
     "metadata": {},
     "output_type": "display_data"
    }
   ],
   "source": [
    "fig=df['Lead Status (Y)'].value_counts().plot.bar().get_figure()\n",
    "fig.tight_layout()"
   ]
  },
  {
   "cell_type": "code",
   "execution_count": null,
   "id": "28a59ad5",
   "metadata": {},
   "outputs": [],
   "source": []
  },
  {
   "cell_type": "markdown",
   "id": "ee017adc",
   "metadata": {},
   "source": [
    "# LabelEncoder for preprocessing"
   ]
  },
  {
   "cell_type": "code",
   "execution_count": 5,
   "id": "517587fa",
   "metadata": {},
   "outputs": [],
   "source": []
  },
  {
   "cell_type": "code",
   "execution_count": null,
   "id": "31eb5403",
   "metadata": {},
   "outputs": [],
   "source": []
  },
  {
   "cell_type": "code",
   "execution_count": null,
   "id": "e48222b6",
   "metadata": {},
   "outputs": [],
   "source": [
    "\n",
    "from sklearn.preprocessing import LabelEncoder\n",
    "le = LabelEncoder()"
   ]
  },
  {
   "cell_type": "code",
   "execution_count": null,
   "id": "30abf2d3",
   "metadata": {},
   "outputs": [],
   "source": [
    "df['Lead Status (Y)'] = le.fit_transform(df['Lead Status (Y)'])"
   ]
  },
  {
   "cell_type": "code",
   "execution_count": null,
   "id": "5d7b49d0",
   "metadata": {},
   "outputs": [],
   "source": []
  },
  {
   "cell_type": "code",
   "execution_count": 18,
   "id": "38ba6b4a",
   "metadata": {},
   "outputs": [
    {
     "data": {
      "text/html": [
       "<div>\n",
       "<style scoped>\n",
       "    .dataframe tbody tr th:only-of-type {\n",
       "        vertical-align: middle;\n",
       "    }\n",
       "\n",
       "    .dataframe tbody tr th {\n",
       "        vertical-align: top;\n",
       "    }\n",
       "\n",
       "    .dataframe thead th {\n",
       "        text-align: right;\n",
       "    }\n",
       "</style>\n",
       "<table border=\"1\" class=\"dataframe\">\n",
       "  <thead>\n",
       "    <tr style=\"text-align: right;\">\n",
       "      <th></th>\n",
       "      <th>Full Name</th>\n",
       "      <th>Designation</th>\n",
       "      <th>Seniority (Head or Manager)</th>\n",
       "      <th>Function (IT, Procurement/Purchase, Others)</th>\n",
       "      <th>How Soon Would You Like to Buy (within 1month, Within 1 Quarter, After 1 Quarter)</th>\n",
       "      <th>Total Units</th>\n",
       "      <th>Org Size (Employees in Your Organization)</th>\n",
       "      <th>Lead Status (Y)</th>\n",
       "    </tr>\n",
       "  </thead>\n",
       "  <tbody>\n",
       "    <tr>\n",
       "      <th>0</th>\n",
       "      <td>Sarfaraz Sikander</td>\n",
       "      <td>Technical Manager - Middle East</td>\n",
       "      <td>Manager</td>\n",
       "      <td>IT</td>\n",
       "      <td>within a month</td>\n",
       "      <td>1</td>\n",
       "      <td>500-1000</td>\n",
       "      <td>1</td>\n",
       "    </tr>\n",
       "    <tr>\n",
       "      <th>1</th>\n",
       "      <td>Nasar Siddiqui</td>\n",
       "      <td>Head of Electronic Channels</td>\n",
       "      <td>Head</td>\n",
       "      <td>IT</td>\n",
       "      <td>within a month</td>\n",
       "      <td>10+</td>\n",
       "      <td>500-1000</td>\n",
       "      <td>3</td>\n",
       "    </tr>\n",
       "    <tr>\n",
       "      <th>2</th>\n",
       "      <td>Fero</td>\n",
       "      <td>Purchasing Coordinator</td>\n",
       "      <td>-</td>\n",
       "      <td>Purchase</td>\n",
       "      <td>within a month</td>\n",
       "      <td>1</td>\n",
       "      <td>200-500</td>\n",
       "      <td>3</td>\n",
       "    </tr>\n",
       "    <tr>\n",
       "      <th>3</th>\n",
       "      <td>Anwar</td>\n",
       "      <td>Director of HR, Training and Organizational De...</td>\n",
       "      <td>Head</td>\n",
       "      <td>Others</td>\n",
       "      <td>within a month</td>\n",
       "      <td>-</td>\n",
       "      <td>501 - 1000</td>\n",
       "      <td>3</td>\n",
       "    </tr>\n",
       "    <tr>\n",
       "      <th>4</th>\n",
       "      <td>Rafeek</td>\n",
       "      <td>Technical Manager</td>\n",
       "      <td>Manager</td>\n",
       "      <td>IT</td>\n",
       "      <td>within a month</td>\n",
       "      <td>0</td>\n",
       "      <td>10001+</td>\n",
       "      <td>3</td>\n",
       "    </tr>\n",
       "    <tr>\n",
       "      <th>...</th>\n",
       "      <td>...</td>\n",
       "      <td>...</td>\n",
       "      <td>...</td>\n",
       "      <td>...</td>\n",
       "      <td>...</td>\n",
       "      <td>...</td>\n",
       "      <td>...</td>\n",
       "      <td>...</td>\n",
       "    </tr>\n",
       "    <tr>\n",
       "      <th>193</th>\n",
       "      <td>Afsal Hamza</td>\n",
       "      <td>Group Procurement Manager</td>\n",
       "      <td>Manager</td>\n",
       "      <td>Procurement</td>\n",
       "      <td>within a month</td>\n",
       "      <td>6 - 10</td>\n",
       "      <td>1000 - 5000</td>\n",
       "      <td>3</td>\n",
       "    </tr>\n",
       "    <tr>\n",
       "      <th>194</th>\n",
       "      <td>Sanjai S Nair</td>\n",
       "      <td>Change And Release Manager @ Dubai Health Auth...</td>\n",
       "      <td>Manager</td>\n",
       "      <td>Others</td>\n",
       "      <td>within a month</td>\n",
       "      <td>6 - 10</td>\n",
       "      <td>1000 - 5000</td>\n",
       "      <td>3</td>\n",
       "    </tr>\n",
       "    <tr>\n",
       "      <th>195</th>\n",
       "      <td>Ajay Sachdev</td>\n",
       "      <td>General Manager Procurement</td>\n",
       "      <td>Manager</td>\n",
       "      <td>Procurement</td>\n",
       "      <td>within a month</td>\n",
       "      <td>6 - 10</td>\n",
       "      <td>10,001+</td>\n",
       "      <td>3</td>\n",
       "    </tr>\n",
       "    <tr>\n",
       "      <th>196</th>\n",
       "      <td>Mohandas</td>\n",
       "      <td>Agency Head - Data-Driven Business Consulting</td>\n",
       "      <td>Head</td>\n",
       "      <td>IT</td>\n",
       "      <td>within a month</td>\n",
       "      <td>6 - 10</td>\n",
       "      <td>50 - 200</td>\n",
       "      <td>3</td>\n",
       "    </tr>\n",
       "    <tr>\n",
       "      <th>197</th>\n",
       "      <td>Khaldun Khaldi</td>\n",
       "      <td>VP- Head Of Enterprise Infrastructure Services</td>\n",
       "      <td>Head</td>\n",
       "      <td>IT</td>\n",
       "      <td>within a month</td>\n",
       "      <td>10</td>\n",
       "      <td>5000 - 10000</td>\n",
       "      <td>1</td>\n",
       "    </tr>\n",
       "  </tbody>\n",
       "</table>\n",
       "<p>198 rows × 8 columns</p>\n",
       "</div>"
      ],
      "text/plain": [
       "             Full Name                                        Designation  \\\n",
       "0    Sarfaraz Sikander                    Technical Manager - Middle East   \n",
       "1       Nasar Siddiqui                        Head of Electronic Channels   \n",
       "2                 Fero                             Purchasing Coordinator   \n",
       "3                Anwar  Director of HR, Training and Organizational De...   \n",
       "4               Rafeek                                  Technical Manager   \n",
       "..                 ...                                                ...   \n",
       "193        Afsal Hamza                          Group Procurement Manager   \n",
       "194      Sanjai S Nair  Change And Release Manager @ Dubai Health Auth...   \n",
       "195       Ajay Sachdev                        General Manager Procurement   \n",
       "196           Mohandas      Agency Head - Data-Driven Business Consulting   \n",
       "197     Khaldun Khaldi     VP- Head Of Enterprise Infrastructure Services   \n",
       "\n",
       "    Seniority (Head or Manager) Function (IT, Procurement/Purchase, Others)  \\\n",
       "0                       Manager                                          IT   \n",
       "1                          Head                                          IT   \n",
       "2                             -                                    Purchase   \n",
       "3                          Head                                      Others   \n",
       "4                       Manager                                          IT   \n",
       "..                          ...                                         ...   \n",
       "193                     Manager                                 Procurement   \n",
       "194                     Manager                                      Others   \n",
       "195                     Manager                                 Procurement   \n",
       "196                        Head                                          IT   \n",
       "197                        Head                                          IT   \n",
       "\n",
       "    How Soon Would You Like to Buy (within 1month, Within 1 Quarter, After 1 Quarter)  \\\n",
       "0                                       within a month                                  \n",
       "1                                       within a month                                  \n",
       "2                                       within a month                                  \n",
       "3                                       within a month                                  \n",
       "4                                       within a month                                  \n",
       "..                                                 ...                                  \n",
       "193                                     within a month                                  \n",
       "194                                     within a month                                  \n",
       "195                                     within a month                                  \n",
       "196                                     within a month                                  \n",
       "197                                     within a month                                  \n",
       "\n",
       "    Total Units Org Size (Employees in Your Organization)  Lead Status (Y)  \n",
       "0             1                                  500-1000                1  \n",
       "1           10+                                  500-1000                3  \n",
       "2             1                                   200-500                3  \n",
       "3             -                                501 - 1000                3  \n",
       "4             0                                    10001+                3  \n",
       "..          ...                                       ...              ...  \n",
       "193      6 - 10                               1000 - 5000                3  \n",
       "194      6 - 10                               1000 - 5000                3  \n",
       "195      6 - 10                                   10,001+                3  \n",
       "196      6 - 10                                  50 - 200                3  \n",
       "197          10                              5000 - 10000                1  \n",
       "\n",
       "[198 rows x 8 columns]"
      ]
     },
     "execution_count": 18,
     "metadata": {},
     "output_type": "execute_result"
    }
   ],
   "source": [
    "df"
   ]
  },
  {
   "cell_type": "code",
   "execution_count": 24,
   "id": "9123c615",
   "metadata": {},
   "outputs": [],
   "source": [
    "\n",
    "\n"
   ]
  },
  {
   "cell_type": "markdown",
   "id": "e7de1c60",
   "metadata": {},
   "source": [
    "# find the null values"
   ]
  },
  {
   "cell_type": "code",
   "execution_count": 26,
   "id": "da2a20ec",
   "metadata": {},
   "outputs": [
    {
     "data": {
      "text/plain": [
       "Full Name                                                                              0.0 %\n",
       "Designation                                                                           0.51 %\n",
       "Seniority (Head or Manager)                                                          13.13 %\n",
       "Function (IT, Procurement/Purchase, Others)                                           1.01 %\n",
       "How Soon Would You Like to Buy (within 1month, Within 1 Quarter, After 1 Quarter)     0.51 %\n",
       "Total Units                                                                           1.01 %\n",
       "Org Size (Employees in Your Organization)                                             0.51 %\n",
       "Lead Status (Y)                                                                       1.01 %\n",
       "dtype: object"
      ]
     },
     "execution_count": 26,
     "metadata": {},
     "output_type": "execute_result"
    }
   ],
   "source": [
    "\n",
    "round((df.isnull().sum() / df.shape[0]) * 100, 2).astype(str) + ' %'"
   ]
  },
  {
   "cell_type": "code",
   "execution_count": 53,
   "id": "42baa037",
   "metadata": {},
   "outputs": [],
   "source": [
    "columns_with_nan = ['Designation', 'Seniority (Head or Manager)', 'Function (IT, Procurement/Purchase, Others)','How Soon Would You Like to Buy (within 1month, Within 1 Quarter, After 1 Quarter)','Total Units','Org Size (Employees in Your Organization)','Lead Status (Y)']\n"
   ]
  },
  {
   "cell_type": "markdown",
   "id": "a9e31905",
   "metadata": {},
   "source": [
    "# LabelEncoder\n"
   ]
  },
  {
   "cell_type": "code",
   "execution_count": null,
   "id": "bb5728d6",
   "metadata": {},
   "outputs": [],
   "source": []
  },
  {
   "cell_type": "code",
   "execution_count": 6,
   "id": "8d11aec7",
   "metadata": {},
   "outputs": [],
   "source": [
    "from sklearn.preprocessing import LabelEncoder\n",
    "\n",
    "for col in df.columns:\n",
    "    if df[col].dtypes == 'object':\n",
    "        encoder = LabelEncoder()\n",
    "        df[col] = encoder.fit_transform(df[col])"
   ]
  },
  {
   "cell_type": "markdown",
   "id": "63452288",
   "metadata": {},
   "source": [
    "# find important features"
   ]
  },
  {
   "cell_type": "code",
   "execution_count": 7,
   "id": "8b1d25bb",
   "metadata": {},
   "outputs": [],
   "source": [
    "X = df.drop('Lead Status (Y)', axis=1)\n",
    "Y = df['Lead Status (Y)']"
   ]
  },
  {
   "cell_type": "code",
   "execution_count": 8,
   "id": "ddd9fc60",
   "metadata": {},
   "outputs": [],
   "source": [
    "from sklearn.ensemble import ExtraTreesClassifier\n",
    "selector = ExtraTreesClassifier(random_state=42)"
   ]
  },
  {
   "cell_type": "code",
   "execution_count": 9,
   "id": "a2ac2000",
   "metadata": {},
   "outputs": [
    {
     "data": {
      "text/plain": [
       "ExtraTreesClassifier(random_state=42)"
      ]
     },
     "execution_count": 9,
     "metadata": {},
     "output_type": "execute_result"
    }
   ],
   "source": [
    "selector.fit(X, Y)"
   ]
  },
  {
   "cell_type": "code",
   "execution_count": 10,
   "id": "80966dcf",
   "metadata": {},
   "outputs": [],
   "source": [
    "feature_imp = selector.feature_importances_"
   ]
  },
  {
   "cell_type": "code",
   "execution_count": 11,
   "id": "0ad15900",
   "metadata": {},
   "outputs": [
    {
     "name": "stdout",
     "output_type": "stream",
     "text": [
      "0 22.55\n",
      "1 21.17\n",
      "2 7.39\n",
      "3 9.46\n",
      "4 3.71\n",
      "5 16.81\n",
      "6 18.91\n"
     ]
    }
   ],
   "source": [
    "for index, val in enumerate(feature_imp):\n",
    "    print(index, round((val * 100), 2))"
   ]
  },
  {
   "cell_type": "code",
   "execution_count": 12,
   "id": "c9216115",
   "metadata": {},
   "outputs": [
    {
     "name": "stdout",
     "output_type": "stream",
     "text": [
      "<class 'pandas.core.frame.DataFrame'>\n",
      "RangeIndex: 198 entries, 0 to 197\n",
      "Data columns (total 7 columns):\n",
      " #   Column                                                                             Non-Null Count  Dtype\n",
      "---  ------                                                                             --------------  -----\n",
      " 0   Full Name                                                                          198 non-null    int32\n",
      " 1   Designation                                                                        198 non-null    int32\n",
      " 2   Seniority (Head or Manager)                                                        198 non-null    int32\n",
      " 3   Function (IT, Procurement/Purchase, Others)                                        198 non-null    int32\n",
      " 4   How Soon Would You Like to Buy (within 1month, Within 1 Quarter, After 1 Quarter)  198 non-null    int32\n",
      " 5   Total Units                                                                        198 non-null    int32\n",
      " 6   Org Size (Employees in Your Organization)                                          198 non-null    int32\n",
      "dtypes: int32(7)\n",
      "memory usage: 5.5 KB\n"
     ]
    }
   ],
   "source": [
    "\n",
    "X.info()"
   ]
  },
  {
   "cell_type": "markdown",
   "id": "168a2418",
   "metadata": {},
   "source": [
    "# logistic regression for feature importance"
   ]
  },
  {
   "cell_type": "code",
   "execution_count": 10,
   "id": "b4296284",
   "metadata": {},
   "outputs": [
    {
     "name": "stdout",
     "output_type": "stream",
     "text": [
      "Feature: 0, Score: 0.16320\n",
      "Feature: 1, Score: -0.64301\n",
      "Feature: 2, Score: 0.48497\n",
      "Feature: 3, Score: -0.46190\n",
      "Feature: 4, Score: 0.18432\n",
      "Feature: 5, Score: -0.11978\n",
      "Feature: 6, Score: -0.40602\n",
      "Feature: 7, Score: 0.03772\n",
      "Feature: 8, Score: -0.51785\n",
      "Feature: 9, Score: 0.26540\n"
     ]
    },
    {
     "data": {
      "image/png": "[encoded data removed]",
      "text/plain": [
       "<Figure size 432x288 with 1 Axes>"
      ]
     },
     "metadata": {
      "needs_background": "light"
     },
     "output_type": "display_data"
    }
   ],
   "source": [
    "# logistic regression for feature importance\n",
    "from sklearn.datasets import make_classification\n",
    "from sklearn.linear_model import LogisticRegression\n",
    "from matplotlib import pyplot\n",
    "# define dataset\n",
    "X, Y = make_classification(n_samples=1000, n_features=10, n_informative=5, n_redundant=5, random_state=1)\n",
    "# define the model\n",
    "model = LogisticRegression()\n",
    "# fit the model\n",
    "model.fit(X, Y)\n",
    "# get importance\n",
    "importance = model.coef_[0]\n",
    "# summarize feature importance\n",
    "for i,v in enumerate(importance):\n",
    "    print('Feature: %0d, Score: %.5f' % (i,v))\n",
    "# plot feature importance\n",
    "pyplot.bar([x for x in range(len(importance))], importance)\n",
    "pyplot.show()\n"
   ]
  },
  {
   "cell_type": "code",
   "execution_count": null,
   "id": "0fc09437",
   "metadata": {},
   "outputs": [],
   "source": [
    "# # linear regression feature importance\n",
    "from sklearn.datasets import make_regression\n",
    "from sklearn.linear_model import LinearRegression\n",
    "from matplotlib import pyplot\n",
    "# define dataset\n",
    "X, Y = make_regression(n_samples=1000, n_features=10, n_informative=5, random_state=1)\n",
    "# define the model\n",
    "model = LinearRegression()\n",
    "# fit the model\n",
    "model.fit(X, Y)\n",
    "# get importance\n",
    "importance = model.coef_\n",
    "# summarize feature importance\n",
    "for i,v in enumerate(importance):\n",
    "    print('Feature: %0d, Score: %.5f' % (i,v))\n",
    "# plot feature importance\n",
    "pyplot.bar([x for x in range(len(importance))], importance)\n",
    "pyplot.show()"
   ]
  },
  {
   "cell_type": "code",
   "execution_count": 34,
   "id": "51ccf08c",
   "metadata": {},
   "outputs": [],
   "source": [
    "\n",
    "#X = X.drop(['Seniority (Head or Manager)'] ,axis=1)"
   ]
  },
  {
   "cell_type": "code",
   "execution_count": 30,
   "id": "1ee1b157",
   "metadata": {},
   "outputs": [],
   "source": [
    "from sklearn.preprocessing import StandardScaler\n",
    "X = StandardScaler().fit_transform(X)"
   ]
  },
  {
   "cell_type": "code",
   "execution_count": 31,
   "id": "896ec22a",
   "metadata": {},
   "outputs": [],
   "source": [
    "df = StandardScaler().fit_transform(df) "
   ]
  },
  {
   "cell_type": "code",
   "execution_count": 35,
   "id": "85c96897",
   "metadata": {},
   "outputs": [],
   "source": [
    "#X = X.drop([\"Function (IT, Procurement/Purchase, Others)\"] ,axis=1)"
   ]
  },
  {
   "cell_type": "code",
   "execution_count": 33,
   "id": "bb3f6247",
   "metadata": {
    "scrolled": true
   },
   "outputs": [],
   "source": [
    "#X = X.drop([\"How Soon Would You Like to Buy (within 1month, Within 1 Quarter, After 1 Quarter)\"] ,axis=1)"
   ]
  },
  {
   "cell_type": "code",
   "execution_count": 22,
   "id": "874da3dc",
   "metadata": {},
   "outputs": [],
   "source": [
    "from sklearn.model_selection import train_test_split\n",
    "X_train, X_test, Y_train, Y_test = train_test_split(\n",
    "    X, Y, test_size=0.2, random_state=42)"
   ]
  },
  {
   "cell_type": "code",
   "execution_count": 15,
   "id": "725173f8",
   "metadata": {},
   "outputs": [
    {
     "name": "stdout",
     "output_type": "stream",
     "text": [
      "X_train shape: (158, 6)\n",
      "X_test shape: (40, 6)\n",
      "Y_train shape: (158,)\n",
      "Y_test shape: (40,)\n"
     ]
    }
   ],
   "source": [
    "print(\"X_train shape:\", X_train.shape)\n",
    "print(\"X_test shape:\", X_test.shape)\n",
    "print(\"Y_train shape:\", Y_train.shape)\n",
    "print(\"Y_test shape:\", Y_test.shape)"
   ]
  },
  {
   "cell_type": "code",
   "execution_count": 64,
   "id": "f05fb080",
   "metadata": {},
   "outputs": [],
   "source": [
    "from sklearn.linear_model import LogisticRegression\n",
    "log_reg = LogisticRegression(random_state=42)"
   ]
  },
  {
   "cell_type": "code",
   "execution_count": 65,
   "id": "1327e90e",
   "metadata": {},
   "outputs": [
    {
     "data": {
      "text/plain": [
       "LogisticRegression(random_state=42)"
      ]
     },
     "execution_count": 65,
     "metadata": {},
     "output_type": "execute_result"
    }
   ],
   "source": [
    "log_reg.fit(X_train, Y_train)"
   ]
  },
  {
   "cell_type": "code",
   "execution_count": 66,
   "id": "f9e97350",
   "metadata": {},
   "outputs": [],
   "source": [
    "Y_pred_log_reg = log_reg.predict(X_test)"
   ]
  },
  {
   "cell_type": "code",
   "execution_count": 67,
   "id": "25c08a25",
   "metadata": {},
   "outputs": [],
   "source": [
    "from sklearn.metrics import accuracy_score\n",
    "from sklearn.metrics import f1_score\n"
   ]
  },
  {
   "cell_type": "code",
   "execution_count": 68,
   "id": "5ed90459",
   "metadata": {},
   "outputs": [
    {
     "name": "stdout",
     "output_type": "stream",
     "text": [
      "Logistic Regression:\n",
      "Accuracy score: 62.5\n"
     ]
    }
   ],
   "source": [
    "\n",
    "print('Logistic Regression:')\n",
    "print('Accuracy score:', round(accuracy_score(Y_test, Y_pred_log_reg) * 100, 2))\n"
   ]
  },
  {
   "cell_type": "code",
   "execution_count": 69,
   "id": "6441280d",
   "metadata": {},
   "outputs": [],
   "source": [
    "from sklearn.ensemble import RandomForestClassifier\n",
    "ran_for = RandomForestClassifier(random_state=42)\n",
    "\n",
    "ran_for.fit(X_train, Y_train)\n",
    "\n",
    "RandomForestClassifier(random_state=42)\n",
    "\n",
    "Y_pred_ran_for = ran_for.predict(X_test)"
   ]
  },
  {
   "cell_type": "code",
   "execution_count": 70,
   "id": "8204ce71",
   "metadata": {},
   "outputs": [
    {
     "name": "stdout",
     "output_type": "stream",
     "text": [
      "Random Forest Classifier:\n",
      "Accuracy score: 52.5\n"
     ]
    }
   ],
   "source": [
    "print('Random Forest Classifier:')\n",
    "print('Accuracy score:', round(accuracy_score(Y_test, Y_pred_ran_for) * 100, 2))\n"
   ]
  },
  {
   "cell_type": "code",
   "execution_count": 98,
   "id": "6a5181b1",
   "metadata": {},
   "outputs": [
    {
     "name": "stdout",
     "output_type": "stream",
     "text": [
      "Feature: 0, Score: 0.16320\n",
      "Feature: 1, Score: -0.64301\n",
      "Feature: 2, Score: 0.48497\n",
      "Feature: 3, Score: -0.46190\n",
      "Feature: 4, Score: 0.18432\n",
      "Feature: 5, Score: -0.11978\n",
      "Feature: 6, Score: -0.40602\n",
      "Feature: 7, Score: 0.03772\n",
      "Feature: 8, Score: -0.51785\n",
      "Feature: 9, Score: 0.26540\n"
     ]
    },
    {
     "data": {
      "image/png": "[encoded data removed]",
      "text/plain": [
       "<Figure size 432x288 with 1 Axes>"
      ]
     },
     "metadata": {
      "needs_background": "light"
     },
     "output_type": "display_data"
    }
   ],
   "source": [
    "# logistic regression for feature importance\n",
    "from sklearn.datasets import make_classification\n",
    "from sklearn.linear_model import LogisticRegression\n",
    "from matplotlib import pyplot\n",
    "# define dataset\n",
    "X, Y = make_classification(n_samples=1000, n_features=10, n_informative=5, n_redundant=5, random_state=1)\n",
    "# define the model\n",
    "model = LogisticRegression()\n",
    "# fit the model\n",
    "model.fit(X, Y)\n",
    "# get importance\n",
    "importance = model.coef_[0]\n",
    "# summarize feature importance\n",
    "for i,v in enumerate(importance):\n",
    "    print('Feature: %0d, Score: %.5f' % (i,v))\n",
    "# plot feature importance\n",
    "pyplot.bar([x for x in range(len(importance))], importance)\n",
    "pyplot.show()"
   ]
  },
  {
   "cell_type": "code",
   "execution_count": 17,
   "id": "d340e3da",
   "metadata": {},
   "outputs": [],
   "source": [
    "import sklearn\n",
    "from sklearn import linear_model"
   ]
  },
  {
   "cell_type": "code",
   "execution_count": 18,
   "id": "19e96ea5",
   "metadata": {},
   "outputs": [
    {
     "name": "stdout",
     "output_type": "stream",
     "text": [
      "Coefficients:  [-0.0005766   0.00132041 -0.0564054   0.22309875  0.02144097 -0.02895874]\n",
      "Variance score: 0.03664067850041919\n"
     ]
    },
    {
     "data": {
      "image/png": "[encoded data removed]",
      "text/plain": [
       "<Figure size 432x288 with 1 Axes>"
      ]
     },
     "metadata": {},
     "output_type": "display_data"
    }
   ],
   "source": [
    "# splitting X and y into training and testing sets\n",
    "from sklearn.model_selection import train_test_split\n",
    "X_train, X_test, y_train, y_test = train_test_split(X, Y, test_size=0.4,\n",
    "                                                    random_state=1)\n",
    "  \n",
    "# create linear regression object\n",
    "reg = linear_model.LinearRegression()\n",
    "  \n",
    "# train the model using the training sets\n",
    "reg.fit(X_train, y_train)\n",
    "  \n",
    "# regression coefficients\n",
    "print('Coefficients: ', reg.coef_)\n",
    "  \n",
    "# variance score: 1 means perfect prediction\n",
    "print('Variance score: {}'.format(reg.score(X_test, y_test)))\n",
    "  \n",
    "# plot for residual error\n",
    "  \n",
    "## setting plot style\n",
    "plt.style.use('fivethirtyeight')\n",
    "  \n",
    "## plotting residual errors in training data\n",
    "plt.scatter(reg.predict(X_train), reg.predict(X_train) - y_train,\n",
    "            color = \"green\", s = 10, label = 'Train data')\n",
    "  \n",
    "## plotting residual errors in test data\n",
    "plt.scatter(reg.predict(X_test), reg.predict(X_test) - y_test,\n",
    "            color = \"blue\", s = 10, label = 'Test data')\n",
    "  \n",
    "## plotting line for zero residual error\n",
    "plt.hlines(y = 0, xmin = 0, xmax = 50, linewidth = 2)\n",
    "  \n",
    "## plotting legend\n",
    "plt.legend(loc = 'upper right')\n",
    "  \n",
    "## plot title\n",
    "plt.title(\"Residual errors\")\n",
    "  \n",
    "## method call for showing the plot\n",
    "plt.show()"
   ]
  },
  {
   "cell_type": "markdown",
   "id": "9d93b0f2",
   "metadata": {},
   "source": [
    " Would you use Logit or Linear regression and Why?"
   ]
  },
  {
   "cell_type": "raw",
   "id": "0c6f91d2",
   "metadata": {},
   "source": [
    "Yes, I used Both modes but the best accuracy in the logistic regression model, because in data target variable is categorical.The result is the impact of each variable on the odds ratio of the observed event of interest."
   ]
  },
  {
   "cell_type": "code",
   "execution_count": null,
   "id": "2a09d110",
   "metadata": {},
   "outputs": [],
   "source": []
  }
 ],
 "metadata": {
  "kernelspec": {
   "display_name": "Python 3 (ipykernel)",
   "language": "python",
   "name": "python3"
  },
  "language_info": {
   "codemirror_mode": {
    "name": "ipython",
    "version": 3
   },
   "file_extension": ".py",
   "mimetype": "text/x-python",
   "name": "python",
   "nbconvert_exporter": "python",
   "pygments_lexer": "ipython3",
   "version": "3.8.4"
  }
 },
 "nbformat": 4,
 "nbformat_minor": 5
}
